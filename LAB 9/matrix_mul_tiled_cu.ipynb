{
  "nbformat": 4,
  "nbformat_minor": 0,
  "metadata": {
    "colab": {
      "provenance": [],
      "gpuType": "T4"
    },
    "kernelspec": {
      "name": "python3",
      "display_name": "Python 3"
    },
    "language_info": {
      "name": "python"
    },
    "accelerator": "GPU"
  },
  "cells": [
    {
      "cell_type": "code",
      "execution_count": 17,
      "metadata": {
        "colab": {
          "base_uri": "https://localhost:8080/"
        },
        "id": "uniV8K-5ncPD",
        "outputId": "5c36894f-38d9-4385-c1ce-da66586da187"
      },
      "outputs": [
        {
          "output_type": "stream",
          "name": "stdout",
          "text": [
            "Overwriting matrix_mul_tiled.cu\n"
          ]
        }
      ],
      "source": [
        "%%writefile matrix_mul_tiled.cu\n",
        "#include <iostream>\n",
        "#include <cuda_runtime.h>\n",
        "#include <cstdlib>\n",
        "\n",
        "#define TILE_SIZE 16  // Define tile size\n",
        "#define N 1024        // Matrix size N x N (adjust this to fit GPU memory)\n",
        "\n",
        "__global__ void matMulTiled(float* A, float* B, float* C, int n) {\n",
        "    __shared__ float tileA[TILE_SIZE][TILE_SIZE];\n",
        "    __shared__ float tileB[TILE_SIZE][TILE_SIZE];\n",
        "\n",
        "    int row = blockIdx.y * TILE_SIZE + threadIdx.y;\n",
        "    int col = blockIdx.x * TILE_SIZE + threadIdx.x;\n",
        "\n",
        "    float sum = 0.0f;\n",
        "\n",
        "    for (int i = 0; i < (n + TILE_SIZE - 1) / TILE_SIZE; i++) {\n",
        "        // Load tiles into shared memory\n",
        "        if (row < n && (i * TILE_SIZE + threadIdx.x) < n)\n",
        "            tileA[threadIdx.y][threadIdx.x] = A[row * n + i * TILE_SIZE + threadIdx.x];\n",
        "        else\n",
        "            tileA[threadIdx.y][threadIdx.x] = 0.0f;\n",
        "\n",
        "        if (col < n && (i * TILE_SIZE + threadIdx.y) < n)\n",
        "            tileB[threadIdx.y][threadIdx.x] = B[(i * TILE_SIZE + threadIdx.y) * n + col];\n",
        "        else\n",
        "            tileB[threadIdx.y][threadIdx.x] = 0.0f;\n",
        "\n",
        "        __syncthreads();  // Wait for all threads to finish loading\n",
        "\n",
        "        // Multiply the two tiles\n",
        "        for (int j = 0; j < TILE_SIZE; j++) {\n",
        "            sum += tileA[threadIdx.y][j] * tileB[j][threadIdx.x];\n",
        "        }\n",
        "\n",
        "        __syncthreads();  // Wait for all threads to finish computing\n",
        "    }\n",
        "\n",
        "    if (row < n && col < n) {\n",
        "        C[row * n + col] = sum;\n",
        "    }\n",
        "}\n",
        "\n",
        "// Function to initialize a random matrix\n",
        "void randomMatrix(float* mat, int n) {\n",
        "    for (int i = 0; i < n * n; i++) {\n",
        "        mat[i] = static_cast<float>(rand()) / RAND_MAX;\n",
        "    }\n",
        "}\n",
        "\n",
        "// Function to measure execution time of kernel\n",
        "void measureExecutionTime(float *d_A, float *d_B, float *d_C, dim3 gridSize, dim3 blockSize, int n) {\n",
        "    cudaEvent_t start, stop;\n",
        "    cudaEventCreate(&start);\n",
        "    cudaEventCreate(&stop);\n",
        "\n",
        "    cudaEventRecord(start);\n",
        "\n",
        "    // Launch the kernel\n",
        "    matMulTiled<<<gridSize, blockSize>>>(d_A, d_B, d_C, n);\n",
        "\n",
        "    cudaEventRecord(stop);\n",
        "    cudaEventSynchronize(stop);\n",
        "\n",
        "    float milliseconds = 0;\n",
        "    cudaEventElapsedTime(&milliseconds, start, stop);\n",
        "    std::cout << \"Execution Time: \" << milliseconds << \" ms\" << std::endl;\n",
        "\n",
        "    cudaEventDestroy(start);\n",
        "    cudaEventDestroy(stop);\n",
        "}\n",
        "\n",
        "// Function to print a portion of the matrix\n",
        "void printMatrix(float* mat, int n) {\n",
        "    std::cout << \"Resulting Matrix (first 5x5 block):\" << std::endl;\n",
        "    for (int i = 0; i < 5 && i < n; ++i) {\n",
        "        for (int j = 0; j < 5 && j < n; ++j) {\n",
        "            std::cout << mat[i * n + j] << \" \";\n",
        "        }\n",
        "        std::cout << std::endl;\n",
        "    }\n",
        "}\n",
        "\n",
        "int main() {\n",
        "    int n = N;\n",
        "    size_t size = n * n * sizeof(float);\n",
        "\n",
        "    // Allocate memory on host (CPU)\n",
        "    float *A, *B, *C;\n",
        "    A = (float*)malloc(size);\n",
        "    B = (float*)malloc(size);\n",
        "    C = (float*)malloc(size);\n",
        "\n",
        "    // Initialize matrices A and B with random values\n",
        "    randomMatrix(A, n);\n",
        "    randomMatrix(B, n);\n",
        "\n",
        "    // Allocate memory on device (GPU)\n",
        "    float *d_A, *d_B, *d_C;\n",
        "    cudaMalloc(&d_A, size);\n",
        "    cudaMalloc(&d_B, size);\n",
        "    cudaMalloc(&d_C, size);\n",
        "\n",
        "    // Copy data from host to device\n",
        "    cudaMemcpy(d_A, A, size, cudaMemcpyHostToDevice);\n",
        "    cudaMemcpy(d_B, B, size, cudaMemcpyHostToDevice);\n",
        "\n",
        "    // Define block size and grid size\n",
        "    dim3 blockSize(TILE_SIZE, TILE_SIZE);\n",
        "    dim3 gridSize((n + TILE_SIZE - 1) / TILE_SIZE, (n + TILE_SIZE - 1) / TILE_SIZE);\n",
        "\n",
        "    std::cout << \"Matrix Multiplication Using Tiling:\\n\";\n",
        "\n",
        "    // Measure execution time of the tiled matrix multiplication\n",
        "    measureExecutionTime(d_A, d_B, d_C, gridSize, blockSize, n);\n",
        "\n",
        "    // Copy the result back to host\n",
        "    cudaMemcpy(C, d_C, size, cudaMemcpyDeviceToHost);\n",
        "\n",
        "    // Print the resulting matrix\n",
        "    printMatrix(C, n);\n",
        "\n",
        "    // Free memory\n",
        "    cudaFree(d_A);\n",
        "    cudaFree(d_B);\n",
        "    cudaFree(d_C);\n",
        "    free(A);\n",
        "    free(B);\n",
        "    free(C);\n",
        "\n",
        "    return 0;\n",
        "}\n"
      ]
    },
    {
      "cell_type": "code",
      "source": [
        "!nvcc -o matrix_mul_tiled matrix_mul_tiled.cu\n",
        "\n"
      ],
      "metadata": {
        "id": "lC_DB51y1QV0"
      },
      "execution_count": 18,
      "outputs": []
    },
    {
      "cell_type": "code",
      "source": [
        "!./matrix_mul_tiled\n",
        "\n"
      ],
      "metadata": {
        "colab": {
          "base_uri": "https://localhost:8080/"
        },
        "id": "QmG_B9Ha1i0n",
        "outputId": "253d0a4a-5724-4953-da05-abac5121fe72"
      },
      "execution_count": 19,
      "outputs": [
        {
          "output_type": "stream",
          "name": "stdout",
          "text": [
            "Matrix Multiplication Using Tiling:\n",
            "Execution Time: 5.99962 ms\n",
            "Resulting Matrix (first 5x5 block):\n",
            "264.159 257.258 250.823 261.542 258.473 \n",
            "256.462 251.636 252.988 252.483 249.185 \n",
            "261.322 257.258 249.169 251.769 247.417 \n",
            "260.235 259.321 251.849 249.62 253.515 \n",
            "256.806 250.774 251.65 249.034 254.128 \n"
          ]
        }
      ]
    },
    {
      "cell_type": "code",
      "source": [
        "%%writefile matrix_mul.cu\n",
        "#include <iostream>\n",
        "#include <cuda_runtime.h>\n",
        "#include <cstdlib>\n",
        "\n",
        "#define N 1024  // Matrix size N x N (adjust to fit GPU memory)\n",
        "\n",
        "__global__ void matMul(float* A, float* B, float* C, int n) {\n",
        "    int row = blockIdx.y * blockDim.y + threadIdx.y;\n",
        "    int col = blockIdx.x * blockDim.x + threadIdx.x;\n",
        "    float sum = 0.0f;\n",
        "\n",
        "    if (row < n && col < n) {\n",
        "        for (int i = 0; i < n; i++) {\n",
        "            sum += A[row * n + i] * B[i * n + col];\n",
        "        }\n",
        "        C[row * n + col] = sum;\n",
        "    }\n",
        "}\n",
        "\n",
        "// Function to initialize a random matrix\n",
        "void randomMatrix(float* mat, int n) {\n",
        "    for (int i = 0; i < n * n; i++) {\n",
        "        mat[i] = static_cast<float>(rand()) / RAND_MAX;\n",
        "    }\n",
        "}\n",
        "\n",
        "// Function to measure execution time of the kernel\n",
        "void measureExecutionTime(float *d_A, float *d_B, float *d_C, dim3 gridSize, dim3 blockSize, int n) {\n",
        "    cudaEvent_t start, stop;\n",
        "    cudaEventCreate(&start);\n",
        "    cudaEventCreate(&stop);\n",
        "\n",
        "    cudaEventRecord(start);\n",
        "\n",
        "    // Launch the kernel\n",
        "    matMul<<<gridSize, blockSize>>>(d_A, d_B, d_C, n);\n",
        "\n",
        "    cudaEventRecord(stop);\n",
        "    cudaEventSynchronize(stop);\n",
        "\n",
        "    float milliseconds = 0;\n",
        "    cudaEventElapsedTime(&milliseconds, start, stop);\n",
        "    std::cout << \"Execution Time: \" << milliseconds << \" ms\" << std::endl;\n",
        "\n",
        "    cudaEventDestroy(start);\n",
        "    cudaEventDestroy(stop);\n",
        "}\n",
        "\n",
        "// Function to print a portion of the matrix\n",
        "void printMatrix(float* mat, int n) {\n",
        "    std::cout << \"Resulting Matrix (first 5x5 block):\" << std::endl;\n",
        "    for (int i = 0; i < 5 && i < n; ++i) {\n",
        "        for (int j = 0; j < 5 && j < n; ++j) {\n",
        "            std::cout << mat[i * n + j] << \" \";\n",
        "        }\n",
        "        std::cout << std::endl;\n",
        "    }\n",
        "}\n",
        "\n",
        "int main() {\n",
        "    int n = N;\n",
        "    size_t size = n * n * sizeof(float);\n",
        "\n",
        "    // Allocate memory on host (CPU)\n",
        "    float *A, *B, *C;\n",
        "    A = (float*)malloc(size);\n",
        "    B = (float*)malloc(size);\n",
        "    C = (float*)malloc(size);\n",
        "\n",
        "    // Initialize matrices A and B with random values\n",
        "    randomMatrix(A, n);\n",
        "    randomMatrix(B, n);\n",
        "\n",
        "    // Allocate memory on device (GPU)\n",
        "    float *d_A, *d_B, *d_C;\n",
        "    cudaMalloc(&d_A, size);\n",
        "    cudaMalloc(&d_B, size);\n",
        "    cudaMalloc(&d_C, size);\n",
        "\n",
        "    // Copy data from host to device\n",
        "    cudaMemcpy(d_A, A, size, cudaMemcpyHostToDevice);\n",
        "    cudaMemcpy(d_B, B, size, cudaMemcpyHostToDevice);\n",
        "\n",
        "    // Define block size and grid size\n",
        "    dim3 blockSize(16, 16);\n",
        "    dim3 gridSize((n + blockSize.x - 1) / blockSize.x, (n + blockSize.y - 1) / blockSize.y);\n",
        "\n",
        "    std::cout << \"Matrix Multiplication Without Tiling:\\n\";\n",
        "\n",
        "    // Measure execution time of the matrix multiplication\n",
        "    measureExecutionTime(d_A, d_B, d_C, gridSize, blockSize, n);\n",
        "\n",
        "    // Copy the result back to host\n",
        "    cudaMemcpy(C, d_C, size, cudaMemcpyDeviceToHost);\n",
        "\n",
        "    // Print the resulting matrix\n",
        "    printMatrix(C, n);\n",
        "\n",
        "    // Free memory\n",
        "    cudaFree(d_A);\n",
        "    cudaFree(d_B);\n",
        "    cudaFree(d_C);\n",
        "    free(A);\n",
        "    free(B);\n",
        "    free(C);\n",
        "\n",
        "    return 0;\n",
        "}\n"
      ],
      "metadata": {
        "colab": {
          "base_uri": "https://localhost:8080/"
        },
        "id": "TcrkkDHt1lVg",
        "outputId": "8b1a4761-b45f-448d-f762-5d481282ff4e"
      },
      "execution_count": 20,
      "outputs": [
        {
          "output_type": "stream",
          "name": "stdout",
          "text": [
            "Writing matrix_mul.cu\n"
          ]
        }
      ]
    },
    {
      "cell_type": "code",
      "source": [
        "!nvcc -o matrix_mul matrix_mul.cu\n"
      ],
      "metadata": {
        "id": "8jZYe9dY2wJD"
      },
      "execution_count": 21,
      "outputs": []
    },
    {
      "cell_type": "code",
      "source": [
        "!./matrix_mul\n"
      ],
      "metadata": {
        "colab": {
          "base_uri": "https://localhost:8080/"
        },
        "id": "P9wcO3q02ybR",
        "outputId": "7feb62b1-000b-4df3-dc50-ec29757f9aaf"
      },
      "execution_count": 22,
      "outputs": [
        {
          "output_type": "stream",
          "name": "stdout",
          "text": [
            "Matrix Multiplication Without Tiling:\n",
            "Execution Time: 55.5 ms\n",
            "Resulting Matrix (first 5x5 block):\n",
            "264.159 257.258 250.823 261.542 258.473 \n",
            "256.462 251.636 252.988 252.483 249.185 \n",
            "261.322 257.258 249.169 251.769 247.417 \n",
            "260.235 259.321 251.849 249.62 253.515 \n",
            "256.806 250.774 251.65 249.034 254.128 \n"
          ]
        }
      ]
    },
    {
      "cell_type": "code",
      "source": [],
      "metadata": {
        "id": "drjrO4Oc2z5j"
      },
      "execution_count": null,
      "outputs": []
    }
  ]
}